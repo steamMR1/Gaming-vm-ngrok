{
  "nbformat": 4,
  "nbformat_minor": 0,
  "metadata": {
    "colab": {
      "name": "XRDP with GPU.ipynb",
      "provenance": [],
      "include_colab_link": true
    },
    "kernelspec": {
      "name": "python3",
      "display_name": "Python 3"
    },
    "language_info": {
      "name": "python"
    },
    "accelerator": "GPU"
  },
  "cells": [
    {
      "cell_type": "markdown",
      "metadata": {
        "id": "view-in-github",
        "colab_type": "text"
      },
      "source": [
        "<a href=\"https://colab.research.google.com/github/steamMR1/Gaming-vm-ngrok/blob/main/XRDP_with_GPU.ipynb\" target=\"_parent\"><img src=\"https://colab.research.google.com/assets/colab-badge.svg\" alt=\"Open In Colab\"/></a>"
      ]
    },
    {
      "cell_type": "code",
      "execution_count": null,
      "metadata": {
        "id": "qzntnPU4IV7k"
      },
      "outputs": [],
      "source": [
        "#@title XRDP GPU check\n",
        "!nvidia-smi"
      ]
    },
    {
      "cell_type": "code",
      "source": [
        "#@title **XRDP Connect**\n",
        "#@markdown XRDP Colab runs up to 6 hours<br><br>\n",
        "#@markdown Get ngrok auth token:<br>\n",
        "#@markdown [Auth Token](https://dashboard.ngrok.com/get-started/your-authtoken)<br><br>\n",
        "#@markdown Just clik play buton and wait... <br>\n",
        "#@markdown Full tutorial: [Aank is ME](https://aank.me/Youtube)<br><br>\n",
        "#@markdown Username: aank<br>\n",
        "#@markdown Password: LinggaHosting<br><br>\n",
        "!wget -O xrdp.sh https://bit.ly/a2nk-Xrdp > /dev/null 2>&1\n",
        "!chmod +x xrdp.sh\n",
        "!./xrdp.sh"
      ],
      "metadata": {
        "id": "wLQEQojCIyCD",
        "cellView": "form"
      },
      "execution_count": null,
      "outputs": []
    },
    {
      "cell_type": "markdown",
      "source": [
        "**Auto Reconnect GColab**\n",
        "\n",
        "\n",
        "```\n",
        "var startClickConnect = function startClickConnect(){ var clickConnect = function clickConnect(){ console.log(\"Connnect Clicked - Start\"); document.querySelector(\"#top-toolbar > colab-connect-button\").shadowRoot.querySelector(\"#connect\").click(); console.log(\"Connnect Clicked - End\"); }; var intervalId = setInterval(clickConnect, 60000); var stopClickConnectHandler = function stopClickConnect() { console.log(\"Connnect Clicked Stopped - Start\"); clearInterval(intervalId); console.log(\"Connnect Clicked Stopped - End\"); }; return stopClickConnectHandler; }; var stopClickConnect = startClickConnect();\n",
        "```\n",
        "\n"
      ],
      "metadata": {
        "id": "fN76547DI-Eg"
      }
    }
  ]
}